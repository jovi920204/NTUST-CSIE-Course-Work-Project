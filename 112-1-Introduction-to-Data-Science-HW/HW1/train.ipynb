{
 "cells": [
  {
   "cell_type": "code",
   "execution_count": 24,
   "metadata": {},
   "outputs": [],
   "source": [
    "# Import all the necessary libraries\n",
    "import pandas as pd\n",
    "import numpy as np\n",
    "import seaborn as sns\n",
    "import plotly.express as px\n",
    "import matplotlib.pyplot as plt\n",
    "from sklearn.svm import SVC\n",
    "from imblearn.over_sampling import SMOTE\n",
    "from sklearn.impute import SimpleImputer\n",
    "from sklearn.ensemble import VotingClassifier\n",
    "from sklearn.ensemble import RandomForestClassifier\n",
    "from sklearn.linear_model import LogisticRegression\n",
    "from sklearn.ensemble import GradientBoostingClassifier\n",
    "from sklearn.model_selection import train_test_split\n",
    "from sklearn.preprocessing import MinMaxScaler,OneHotEncoder, LabelEncoder\n",
    "from sklearn.metrics import accuracy_score,roc_auc_score,precision_score, recall_score, f1_score,ConfusionMatrixDisplay,classification_report\n",
    "from xgboost import XGBClassifier\n",
    "from scipy import stats\n",
    "\n",
    "\n",
    "import warnings \n",
    "warnings.filterwarnings(\"ignore\")"
   ]
  },
  {
   "cell_type": "code",
   "execution_count": 25,
   "metadata": {},
   "outputs": [
    {
     "name": "stdout",
     "output_type": "stream",
     "text": [
      "<class 'pandas.core.frame.DataFrame'>\n",
      "RangeIndex: 17109 entries, 0 to 17108\n",
      "Data columns (total 21 columns):\n",
      " #   Column        Non-Null Count  Dtype  \n",
      "---  ------        --------------  -----  \n",
      " 0   Date          17109 non-null  object \n",
      " 1   Location      17109 non-null  object \n",
      " 2   MinTemp       17037 non-null  float64\n",
      " 3   MaxTemp       17067 non-null  float64\n",
      " 4   Rainfall      16944 non-null  float64\n",
      " 5   Evaporation   9871 non-null   float64\n",
      " 6   Sunshine      9051 non-null   float64\n",
      " 7   WindDir9am    15926 non-null  object \n",
      " 8   WindDir3pm    16702 non-null  object \n",
      " 9   WindSpeed9am  16962 non-null  float64\n",
      " 10  WindSpeed3pm  16815 non-null  float64\n",
      " 11  Humidity9am   16923 non-null  float64\n",
      " 12  Humidity3pm   16710 non-null  float64\n",
      " 13  Pressure9am   15448 non-null  float64\n",
      " 14  Pressure3pm   15453 non-null  float64\n",
      " 15  Cloud9am      10681 non-null  float64\n",
      " 16  Cloud3pm      10238 non-null  float64\n",
      " 17  Temp9am       17015 non-null  float64\n",
      " 18  Temp3pm       16803 non-null  float64\n",
      " 19  RainToday     16944 non-null  object \n",
      " 20  RainTomorrow  17109 non-null  object \n",
      "dtypes: float64(15), object(6)\n",
      "memory usage: 2.7+ MB\n"
     ]
    }
   ],
   "source": [
    "dataframe = pd.read_csv('train.csv')\n",
    "dataframe.columns = ['Date', 'Location', 'MinTemp', 'MaxTemp', 'Rainfall', 'Evaporation',\n",
    "       'Sunshine', 'WindDir9am', 'WindDir3pm', 'WindSpeed9am', 'WindSpeed3pm',\n",
    "       'Humidity9am', 'Humidity3pm', 'Pressure9am', 'Pressure3pm', 'Cloud9am',\n",
    "       'Cloud3pm', 'Temp9am', 'Temp3pm', 'RainToday', 'RainTomorrow']\n",
    "dataframe['Location'] = dataframe['Location'].astype('object')\n",
    "dataframe.info()"
   ]
  },
  {
   "cell_type": "code",
   "execution_count": 26,
   "metadata": {},
   "outputs": [],
   "source": [
    "# 若我是使用 決策樹 或 隨機森林，我會先將日期刪除，因為日期不會影響到結果\n",
    "dataframe.drop(\"Date\", axis=1, inplace=True)"
   ]
  },
  {
   "cell_type": "code",
   "execution_count": 27,
   "metadata": {},
   "outputs": [],
   "source": [
    "dataframe.drop(['Temp9am', 'Temp3pm'], axis=1, inplace=True)"
   ]
  },
  {
   "cell_type": "code",
   "execution_count": 28,
   "metadata": {},
   "outputs": [],
   "source": [
    "# 取得 類別型 以及 數值型 的欄位\n",
    "def get_num_cat_col(df):\n",
    "    cat_cols = dataframe.select_dtypes(include=['object']).columns\n",
    "    num_cols = dataframe.select_dtypes(exclude=['object']).columns\n",
    "    return cat_cols, num_cols"
   ]
  },
  {
   "cell_type": "code",
   "execution_count": 29,
   "metadata": {},
   "outputs": [],
   "source": [
    "categorical_cols, numerical_cols = get_num_cat_col(dataframe)"
   ]
  },
  {
   "cell_type": "code",
   "execution_count": 30,
   "metadata": {},
   "outputs": [],
   "source": [
    "# num -> median , cat -> most_frequent\n",
    "for col in numerical_cols:\n",
    "    dataframe[col]= dataframe[col].fillna(dataframe[col].median())"
   ]
  },
  {
   "cell_type": "code",
   "execution_count": 31,
   "metadata": {},
   "outputs": [],
   "source": [
    "for col in categorical_cols:\n",
    "    dataframe[col] = dataframe[col].fillna(dataframe[col].mode()[0])"
   ]
  },
  {
   "cell_type": "code",
   "execution_count": 32,
   "metadata": {},
   "outputs": [
    {
     "name": "stdout",
     "output_type": "stream",
     "text": [
      "Location        0\n",
      "MinTemp         0\n",
      "MaxTemp         0\n",
      "Rainfall        0\n",
      "Evaporation     0\n",
      "Sunshine        0\n",
      "WindDir9am      0\n",
      "WindDir3pm      0\n",
      "WindSpeed9am    0\n",
      "WindSpeed3pm    0\n",
      "Humidity9am     0\n",
      "Humidity3pm     0\n",
      "Pressure9am     0\n",
      "Pressure3pm     0\n",
      "Cloud9am        0\n",
      "Cloud3pm        0\n",
      "RainToday       0\n",
      "RainTomorrow    0\n",
      "dtype: int64\n"
     ]
    }
   ],
   "source": [
    "print(dataframe.isnull().sum())"
   ]
  },
  {
   "cell_type": "code",
   "execution_count": 33,
   "metadata": {},
   "outputs": [],
   "source": [
    "dataframe['high_sun'] = np.where(dataframe['Sunshine'] > 9, 1, 0)\n",
    "dataframe['Humidity3pm_60'] = np.where(dataframe['Humidity3pm'] >= 70, 1, 0)\n",
    "dataframe['Cloud3pm_6'] = np.where(dataframe['Cloud3pm'] > 6, 1, 0)\n",
    "dataframe['Location'] = dataframe['Location'].astype('object')"
   ]
  },
  {
   "cell_type": "code",
   "execution_count": 34,
   "metadata": {},
   "outputs": [],
   "source": [
    "# 去除 3 個標準差的 離群值\n",
    "for col in numerical_cols:\n",
    "    dataframe = dataframe[np.abs(stats.zscore(dataframe[col])) < 3]"
   ]
  },
  {
   "cell_type": "code",
   "execution_count": 35,
   "metadata": {},
   "outputs": [],
   "source": [
    "no_yes_col = ['RainToday', 'RainTomorrow']\n",
    "for col in no_yes_col:\n",
    "    dataframe[col] = dataframe[col].map({'No': 0, 'Yes': 1})"
   ]
  },
  {
   "cell_type": "code",
   "execution_count": 36,
   "metadata": {},
   "outputs": [
    {
     "name": "stdout",
     "output_type": "stream",
     "text": [
      "(15911, 99)\n"
     ]
    }
   ],
   "source": [
    "cat_col = ['Location', 'WindDir9am', 'WindDir3pm']\n",
    "# one-hot encoding\n",
    "dataframe= pd.get_dummies(dataframe, columns=cat_col)\n",
    "print(dataframe.shape)"
   ]
  },
  {
   "cell_type": "code",
   "execution_count": 37,
   "metadata": {},
   "outputs": [],
   "source": [
    "# split data into train and test sets\n",
    "X = dataframe.drop(['RainTomorrow'], axis=1)\n",
    "y = dataframe['RainTomorrow']\n",
    "X_train, X_test, y_train, y_test = train_test_split(X, y, test_size=0.2, random_state=42)"
   ]
  },
  {
   "cell_type": "code",
   "execution_count": 38,
   "metadata": {},
   "outputs": [],
   "source": [
    "# oversampling\n",
    "sm = SMOTE(random_state=42)\n",
    "X_train, y_train = sm.fit_resample(X_train, y_train)"
   ]
  },
  {
   "cell_type": "code",
   "execution_count": 39,
   "metadata": {},
   "outputs": [
    {
     "name": "stdout",
     "output_type": "stream",
     "text": [
      "Accuracy:[0.8645931511153]\n",
      "ROC AUC:[0.7643996806348772]\n",
      "Recall:[0.6321243523316062]\n",
      "Precision:[0.45778611632270166]\n",
      "F1-Score:[0.5310119695321001]\n",
      "Classifiaction Reoprt\n",
      "---------------------\n",
      "              precision    recall  f1-score   support\n",
      "\n",
      "           0      0.897     0.946     0.921      2650\n",
      "           1      0.632     0.458     0.531       533\n",
      "\n",
      "    accuracy                          0.865      3183\n",
      "   macro avg      0.764     0.702     0.726      3183\n",
      "weighted avg      0.852     0.865     0.856      3183\n",
      "\n",
      "Confusion_Matrix\n",
      "---------------------\n"
     ]
    },
    {
     "data": {
      "image/png": "[encoded data removed]",
      "text/plain": [
       "<Figure size 640x480 with 2 Axes>"
      ]
     },
     "metadata": {},
     "output_type": "display_data"
    }
   ],
   "source": [
    "accuracy_result = []\n",
    "recall_scores = []\n",
    "precision_scores = []\n",
    "roc_auc_scores = []\n",
    "f1_scores = []\n",
    "\n",
    "# Create the Model\n",
    "clf_rf= RandomForestClassifier(max_features=20,min_samples_leaf=10,min_samples_split=2,n_estimators=400,random_state=42)\n",
    "clf_lr= LogisticRegression(penalty='l1' , solver='liblinear')\n",
    "clf_svm=SVC(kernel='linear', gamma='scale')\n",
    "clf_gbc=GradientBoostingClassifier(min_samples_split=6, min_samples_leaf=10)\n",
    "params_xgb = {\n",
    "            'max_depth': 36,\n",
    "            'device': 'cuda',\n",
    "            'tree_method': 'hist',\n",
    "            'objective': 'binary:logistic',\n",
    "            'n_estimators': 400,\n",
    "            'random_state': 42,\n",
    "            }\n",
    "clf_xgb = XGBClassifier(n_estimators=500,\n",
    "                        max_depth=25,\n",
    "                        learning_rate=0.1,\n",
    "                        subsample=0.8,\n",
    "                        colsample_bytree=0.8,\n",
    "                        missing=-999,\n",
    "                        verbose=2,\n",
    "                        random_state=42)\n",
    "# Create Votingclassifier Model\n",
    "voting_clf= VotingClassifier(estimators=[('rf', clf_rf), ('lr', clf_lr), ('svm', clf_svm), ('gbc', clf_gbc), ('xgb', clf_xgb)], voting='hard', n_jobs=-1)\n",
    "voting_clf.fit(X_train,y_train)\n",
    "y_pred=voting_clf.predict(X_test)\n",
    "\n",
    "\n",
    "# Save the result into List\n",
    "accuracy_result.append(accuracy_score(y_pred,y_test))\n",
    "recall_scores.append(recall_score(y_pred, y_test))\n",
    "precision_scores.append(precision_score(y_pred, y_test))\n",
    "f1_scores.append(f1_score(y_pred, y_test))\n",
    "roc_auc_scores.append(roc_auc_score(y_pred, y_test))\n",
    "\n",
    "# Print the Results\n",
    "print(f\"Accuracy:{accuracy_result}\")\n",
    "print(f\"ROC AUC:{roc_auc_scores}\")\n",
    "print(f\"Recall:{recall_scores}\")\n",
    "print(f\"Precision:{precision_scores}\")\n",
    "print(f\"F1-Score:{f1_scores}\")\n",
    "print(\"Classifiaction Reoprt\")\n",
    "print(\"---------------------\")\n",
    "print(classification_report(y_test,y_pred,digits=3))\n",
    "print(\"Confusion_Matrix\")\n",
    "print(\"---------------------\")\n",
    "ConfusionMatrixDisplay.from_predictions(y_test, y_pred)\n",
    "plt.show()"
   ]
  },
  {
   "cell_type": "code",
   "execution_count": 40,
   "metadata": {},
   "outputs": [],
   "source": [
    "model_names = ['VotingClassifier']\n",
    "result_df = pd.DataFrame({'Recall':recall_scores, 'Precision':precision_scores, 'F1_Score':f1_scores, 'Accuracy': accuracy_result, 'ROC_AUC_Score':roc_auc_scores},index=model_names)"
   ]
  },
  {
   "cell_type": "code",
   "execution_count": 41,
   "metadata": {},
   "outputs": [
    {
     "data": {
      "text/html": [
       "<div>\n",
       "<style scoped>\n",
       "    .dataframe tbody tr th:only-of-type {\n",
       "        vertical-align: middle;\n",
       "    }\n",
       "\n",
       "    .dataframe tbody tr th {\n",
       "        vertical-align: top;\n",
       "    }\n",
       "\n",
       "    .dataframe thead th {\n",
       "        text-align: right;\n",
       "    }\n",
       "</style>\n",
       "<table border=\"1\" class=\"dataframe\">\n",
       "  <thead>\n",
       "    <tr style=\"text-align: right;\">\n",
       "      <th></th>\n",
       "      <th>VotingClassifier</th>\n",
       "    </tr>\n",
       "  </thead>\n",
       "  <tbody>\n",
       "    <tr>\n",
       "      <th>Accuracy</th>\n",
       "      <td>0.864593</td>\n",
       "    </tr>\n",
       "    <tr>\n",
       "      <th>ROC_AUC_Score</th>\n",
       "      <td>0.764400</td>\n",
       "    </tr>\n",
       "    <tr>\n",
       "      <th>Recall</th>\n",
       "      <td>0.632124</td>\n",
       "    </tr>\n",
       "    <tr>\n",
       "      <th>F1_Score</th>\n",
       "      <td>0.531012</td>\n",
       "    </tr>\n",
       "    <tr>\n",
       "      <th>Precision</th>\n",
       "      <td>0.457786</td>\n",
       "    </tr>\n",
       "  </tbody>\n",
       "</table>\n",
       "</div>"
      ],
      "text/plain": [
       "               VotingClassifier\n",
       "Accuracy               0.864593\n",
       "ROC_AUC_Score          0.764400\n",
       "Recall                 0.632124\n",
       "F1_Score               0.531012\n",
       "Precision              0.457786"
      ]
     },
     "execution_count": 41,
     "metadata": {},
     "output_type": "execute_result"
    }
   ],
   "source": [
    "result_df.T.sort_values(by=\"VotingClassifier\", ascending=False)"
   ]
  },
  {
   "cell_type": "code",
   "execution_count": 42,
   "metadata": {},
   "outputs": [],
   "source": [
    "test_df = pd.read_csv('test.csv')\n",
    "test_df.columns = ['Date', 'Location', 'MinTemp', 'MaxTemp', 'Rainfall', 'Evaporation',\n",
    "       'Sunshine', 'WindDir9am', 'WindDir3pm', 'WindSpeed9am', 'WindSpeed3pm',\n",
    "       'Humidity9am', 'Humidity3pm', 'Pressure9am', 'Pressure3pm', 'Cloud9am',\n",
    "       'Cloud3pm', 'Temp9am', 'Temp3pm', 'RainToday']\n",
    "test_df['Location'] = test_df['Location'].astype('object')\n",
    "test_df.drop(\"Date\", axis=1, inplace=True)\n",
    "test_df.drop(['Temp9am', 'Temp3pm'], axis=1, inplace=True)"
   ]
  },
  {
   "cell_type": "code",
   "execution_count": 43,
   "metadata": {},
   "outputs": [],
   "source": [
    "test_df['RainToday'] = dataframe['RainToday'].map({'No': 0, 'Yes': 1})\n",
    "cat_col = ['Location', 'WindDir9am', 'WindDir3pm']\n",
    "test_df = pd.get_dummies(test_df, columns=cat_col)\n",
    "# 新增的欄位，若在 test_df 中沒有，則新增一個全為 0 的欄位\n",
    "for col in dataframe.columns:\n",
    "    if col not in test_df.columns:\n",
    "        if col != 'RainTomorrow':\n",
    "            test_df[col] = 0\n",
    "\n",
    "# place the columns in the same order, exclude RainTomorrow\n",
    "cols = dataframe.columns.tolist()\n",
    "cols.remove('RainTomorrow')\n",
    "test_df = test_df[cols]"
   ]
  },
  {
   "cell_type": "code",
   "execution_count": 44,
   "metadata": {},
   "outputs": [],
   "source": [
    "test_df.fillna(0, inplace=True)"
   ]
  },
  {
   "cell_type": "code",
   "execution_count": 45,
   "metadata": {},
   "outputs": [
    {
     "name": "stdout",
     "output_type": "stream",
     "text": [
      "328\n",
      "495\n"
     ]
    }
   ],
   "source": [
    "# predict\n",
    "y_pred = voting_clf.predict(test_df)\n",
    "print(y_pred.tolist().count(1))\n",
    "print(y_pred.tolist().count(0))\n",
    "count = y_pred.tolist().count(1)"
   ]
  },
  {
   "cell_type": "code",
   "execution_count": 46,
   "metadata": {},
   "outputs": [
    {
     "name": "stdout",
     "output_type": "stream",
     "text": [
      "<class 'pandas.core.frame.DataFrame'>\n",
      "Int64Index: 823 entries, 0 to 822\n",
      "Data columns (total 2 columns):\n",
      " #   Column  Non-Null Count  Dtype  \n",
      "---  ------  --------------  -----  \n",
      " 0   id      823 non-null    float64\n",
      " 1   ans     823 non-null    int32  \n",
      "dtypes: float64(1), int32(1)\n",
      "memory usage: 16.1 KB\n"
     ]
    }
   ],
   "source": [
    "df_submit = pd.DataFrame(columns=['id', 'ans'])\n",
    "# col 為 id 跟 ans\n",
    "for i in range(len(y_pred)):\n",
    "    df_submit.loc[i] = [i, y_pred[i]]\n",
    "\n",
    "# 把 id 轉成 string\n",
    "df_submit['id'] = df_submit['id'].astype('float64')\n",
    "df_submit['ans'] = df_submit['ans'].astype('int32')\n",
    "# 寫入 2023-11-07-submit.csv\n",
    "df_submit.to_csv('2023-11-30-submit-votingCLF-'+ str(count) +'.csv', index=False)\n",
    "# 計算 df_submit\n",
    "df_submit.info()"
   ]
  }
 ],
 "metadata": {
  "kernelspec": {
   "display_name": "Python 3",
   "language": "python",
   "name": "python3"
  },
  "language_info": {
   "codemirror_mode": {
    "name": "ipython",
    "version": 3
   },
   "file_extension": ".py",
   "mimetype": "text/x-python",
   "name": "python",
   "nbconvert_exporter": "python",
   "pygments_lexer": "ipython3",
   "version": "3.10.6"
  }
 },
 "nbformat": 4,
 "nbformat_minor": 2
}
