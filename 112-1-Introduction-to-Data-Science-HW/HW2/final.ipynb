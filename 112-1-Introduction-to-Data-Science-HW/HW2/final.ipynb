{
 "cells": [
  {
   "cell_type": "code",
   "execution_count": null,
   "metadata": {},
   "outputs": [],
   "source": [
    "import numpy as np \n",
    "import pandas as pd \n",
    "import os\n",
    "import seaborn as sns\n",
    "import matplotlib.pyplot as plt\n",
    "from sklearn import preprocessing\n",
    "from sklearn.metrics import confusion_matrix\n",
    "from sklearn import cluster\n",
    "import warnings\n",
    "from sklearn.preprocessing import StandardScaler\n",
    "\n",
    "warnings.filterwarnings(\"ignore\")"
   ]
  },
  {
   "cell_type": "code",
   "execution_count": null,
   "metadata": {},
   "outputs": [],
   "source": [
    "data = pd.read_csv('train.csv')\n",
    "keys = ['Feature 4', 'Feature 9']\n",
    "data = data[keys]\n",
    "\n",
    "data_scaled = data.copy()\n",
    "\n",
    "### standardize\n",
    "standard = preprocessing.StandardScaler()\n",
    "data_scaled = standard.fit_transform(data_scaled)"
   ]
  },
  {
   "cell_type": "code",
   "execution_count": null,
   "metadata": {},
   "outputs": [],
   "source": [
    "number_of_cluster = 3\n",
    "KM_predicted = cluster.KMeans(n_clusters = number_of_cluster, n_init='auto', max_iter=1000, algorithm='auto' , random_state=3).fit(data_scaled)"
   ]
  },
  {
   "cell_type": "code",
   "execution_count": null,
   "metadata": {},
   "outputs": [],
   "source": [
    "test = pd.read_csv('test_4000.csv')\n",
    "answer = pd.read_csv('submit_format.csv')\n",
    "\n",
    "for id in test['id']:\n",
    "    id_1 = test.iloc[id]['col_1']\n",
    "    id_2 = test.iloc[id]['col_2']\n",
    "    if KM_predicted.labels_[id_1] == KM_predicted.labels_[id_2]:\n",
    "        answer.iloc[id, 1] = 1\n",
    "    else:\n",
    "        answer.iloc[id, 1] = 0\n",
    "answer['ans'] = answer['ans'].astype(int)\n",
    "answer.to_csv('/kaggle/working/20231215-submit.csv', index=False)"
   ]
  }
 ],
 "metadata": {
  "language_info": {
   "name": "python"
  }
 },
 "nbformat": 4,
 "nbformat_minor": 2
}
